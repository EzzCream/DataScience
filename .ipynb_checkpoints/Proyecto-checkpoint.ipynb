{
 "cells": [
  {
   "cell_type": "markdown",
   "id": "18061929",
   "metadata": {},
   "source": [
    "### Importando librerias"
   ]
  },
  {
   "cell_type": "code",
   "execution_count": 1,
   "id": "c5086301",
   "metadata": {},
   "outputs": [],
   "source": [
    "import pandas as pd\n",
    "import numpy as np"
   ]
  },
  {
   "cell_type": "markdown",
   "id": "e818945c",
   "metadata": {},
   "source": [
    "### Cargando archivos"
   ]
  },
  {
   "cell_type": "code",
   "execution_count": 4,
   "id": "3d09e1b7",
   "metadata": {},
   "outputs": [],
   "source": [
    "df_pokemon = pd.read_csv (\"./pokemon.csv\")"
   ]
  },
  {
   "cell_type": "markdown",
   "id": "f50df1e6",
   "metadata": {},
   "source": [
    "### Shapes"
   ]
  },
  {
   "cell_type": "code",
   "execution_count": 5,
   "id": "867bfd11",
   "metadata": {},
   "outputs": [
    {
     "data": {
      "text/plain": [
       "(801, 41)"
      ]
     },
     "execution_count": 5,
     "metadata": {},
     "output_type": "execute_result"
    }
   ],
   "source": [
    "df_pokemon.shape"
   ]
  },
  {
   "cell_type": "code",
   "execution_count": null,
   "id": "f5069f35",
   "metadata": {},
   "outputs": [],
   "source": []
  }
 ],
 "metadata": {
  "kernelspec": {
   "display_name": "Python 3 (ipykernel)",
   "language": "python",
   "name": "python3"
  },
  "language_info": {
   "codemirror_mode": {
    "name": "ipython",
    "version": 3
   },
   "file_extension": ".py",
   "mimetype": "text/x-python",
   "name": "python",
   "nbconvert_exporter": "python",
   "pygments_lexer": "ipython3",
   "version": "3.9.12"
  }
 },
 "nbformat": 4,
 "nbformat_minor": 5
}
